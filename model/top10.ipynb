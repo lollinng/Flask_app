{
 "cells": [
  {
   "cell_type": "code",
   "execution_count": 2,
   "metadata": {},
   "outputs": [],
   "source": [
    "import numpy as np\n",
    "import pandas as pd"
   ]
  },
  {
   "cell_type": "code",
   "execution_count": 3,
   "metadata": {},
   "outputs": [
    {
     "data": {
      "text/html": [
       "<div>\n",
       "<style scoped>\n",
       "    .dataframe tbody tr th:only-of-type {\n",
       "        vertical-align: middle;\n",
       "    }\n",
       "\n",
       "    .dataframe tbody tr th {\n",
       "        vertical-align: top;\n",
       "    }\n",
       "\n",
       "    .dataframe thead th {\n",
       "        text-align: right;\n",
       "    }\n",
       "</style>\n",
       "<table border=\"1\" class=\"dataframe\">\n",
       "  <thead>\n",
       "    <tr style=\"text-align: right;\">\n",
       "      <th></th>\n",
       "      <th>Unnamed: 0</th>\n",
       "      <th>EMPLOYER_ACCEPTANCE_HA</th>\n",
       "      <th>EMPLOYER_ACCEPTANCE_LA</th>\n",
       "      <th>EMPLOYER_ACCEPTANCE_MA</th>\n",
       "      <th>EMPLOYER_ACCEPTANCE_VHA</th>\n",
       "      <th>EMPLOYER_ACCEPTANCE_VLA</th>\n",
       "      <th>JOB_ACCEPTANCE_HA</th>\n",
       "      <th>JOB_ACCEPTANCE_LA</th>\n",
       "      <th>JOB_ACCEPTANCE_MA</th>\n",
       "      <th>JOB_ACCEPTANCE_VHA</th>\n",
       "      <th>JOB_ACCEPTANCE_VLA</th>\n",
       "      <th>SOC_ACCEPTANCE_HA</th>\n",
       "      <th>SOC_ACCEPTANCE_LA</th>\n",
       "      <th>SOC_ACCEPTANCE_MA</th>\n",
       "      <th>SOC_ACCEPTANCE_VHA</th>\n",
       "      <th>SOC_ACCEPTANCE_VLA</th>\n",
       "    </tr>\n",
       "  </thead>\n",
       "  <tbody>\n",
       "    <tr>\n",
       "      <th>0</th>\n",
       "      <td>GOOGLE INC.</td>\n",
       "      <td>16473.0</td>\n",
       "      <td>NaN</td>\n",
       "      <td>NaN</td>\n",
       "      <td>NaN</td>\n",
       "      <td>NaN</td>\n",
       "      <td>NaN</td>\n",
       "      <td>NaN</td>\n",
       "      <td>NaN</td>\n",
       "      <td>NaN</td>\n",
       "      <td>NaN</td>\n",
       "      <td>NaN</td>\n",
       "      <td>NaN</td>\n",
       "      <td>NaN</td>\n",
       "      <td>NaN</td>\n",
       "      <td>NaN</td>\n",
       "    </tr>\n",
       "    <tr>\n",
       "      <th>1</th>\n",
       "      <td>IBM CORPORATION</td>\n",
       "      <td>13276.0</td>\n",
       "      <td>NaN</td>\n",
       "      <td>NaN</td>\n",
       "      <td>NaN</td>\n",
       "      <td>NaN</td>\n",
       "      <td>NaN</td>\n",
       "      <td>NaN</td>\n",
       "      <td>NaN</td>\n",
       "      <td>NaN</td>\n",
       "      <td>NaN</td>\n",
       "      <td>NaN</td>\n",
       "      <td>NaN</td>\n",
       "      <td>NaN</td>\n",
       "      <td>NaN</td>\n",
       "      <td>NaN</td>\n",
       "    </tr>\n",
       "    <tr>\n",
       "      <th>2</th>\n",
       "      <td>QUALCOMM INCORPORATED</td>\n",
       "      <td>3965.0</td>\n",
       "      <td>NaN</td>\n",
       "      <td>NaN</td>\n",
       "      <td>NaN</td>\n",
       "      <td>NaN</td>\n",
       "      <td>NaN</td>\n",
       "      <td>NaN</td>\n",
       "      <td>NaN</td>\n",
       "      <td>NaN</td>\n",
       "      <td>NaN</td>\n",
       "      <td>NaN</td>\n",
       "      <td>NaN</td>\n",
       "      <td>NaN</td>\n",
       "      <td>NaN</td>\n",
       "      <td>NaN</td>\n",
       "    </tr>\n",
       "    <tr>\n",
       "      <th>3</th>\n",
       "      <td>ERICSSON INC.</td>\n",
       "      <td>3359.0</td>\n",
       "      <td>NaN</td>\n",
       "      <td>NaN</td>\n",
       "      <td>NaN</td>\n",
       "      <td>NaN</td>\n",
       "      <td>NaN</td>\n",
       "      <td>NaN</td>\n",
       "      <td>NaN</td>\n",
       "      <td>NaN</td>\n",
       "      <td>NaN</td>\n",
       "      <td>NaN</td>\n",
       "      <td>NaN</td>\n",
       "      <td>NaN</td>\n",
       "      <td>NaN</td>\n",
       "      <td>NaN</td>\n",
       "    </tr>\n",
       "    <tr>\n",
       "      <th>4</th>\n",
       "      <td>YAHOO! INC.</td>\n",
       "      <td>3348.0</td>\n",
       "      <td>NaN</td>\n",
       "      <td>NaN</td>\n",
       "      <td>NaN</td>\n",
       "      <td>NaN</td>\n",
       "      <td>NaN</td>\n",
       "      <td>NaN</td>\n",
       "      <td>NaN</td>\n",
       "      <td>NaN</td>\n",
       "      <td>NaN</td>\n",
       "      <td>NaN</td>\n",
       "      <td>NaN</td>\n",
       "      <td>NaN</td>\n",
       "      <td>NaN</td>\n",
       "      <td>NaN</td>\n",
       "    </tr>\n",
       "  </tbody>\n",
       "</table>\n",
       "</div>"
      ],
      "text/plain": [
       "              Unnamed: 0  EMPLOYER_ACCEPTANCE_HA  EMPLOYER_ACCEPTANCE_LA  \\\n",
       "0            GOOGLE INC.                 16473.0                     NaN   \n",
       "1        IBM CORPORATION                 13276.0                     NaN   \n",
       "2  QUALCOMM INCORPORATED                  3965.0                     NaN   \n",
       "3          ERICSSON INC.                  3359.0                     NaN   \n",
       "4            YAHOO! INC.                  3348.0                     NaN   \n",
       "\n",
       "   EMPLOYER_ACCEPTANCE_MA  EMPLOYER_ACCEPTANCE_VHA  EMPLOYER_ACCEPTANCE_VLA  \\\n",
       "0                     NaN                      NaN                      NaN   \n",
       "1                     NaN                      NaN                      NaN   \n",
       "2                     NaN                      NaN                      NaN   \n",
       "3                     NaN                      NaN                      NaN   \n",
       "4                     NaN                      NaN                      NaN   \n",
       "\n",
       "   JOB_ACCEPTANCE_HA  JOB_ACCEPTANCE_LA  JOB_ACCEPTANCE_MA  \\\n",
       "0                NaN                NaN                NaN   \n",
       "1                NaN                NaN                NaN   \n",
       "2                NaN                NaN                NaN   \n",
       "3                NaN                NaN                NaN   \n",
       "4                NaN                NaN                NaN   \n",
       "\n",
       "   JOB_ACCEPTANCE_VHA  JOB_ACCEPTANCE_VLA  SOC_ACCEPTANCE_HA  \\\n",
       "0                 NaN                 NaN                NaN   \n",
       "1                 NaN                 NaN                NaN   \n",
       "2                 NaN                 NaN                NaN   \n",
       "3                 NaN                 NaN                NaN   \n",
       "4                 NaN                 NaN                NaN   \n",
       "\n",
       "   SOC_ACCEPTANCE_LA  SOC_ACCEPTANCE_MA  SOC_ACCEPTANCE_VHA  \\\n",
       "0                NaN                NaN                 NaN   \n",
       "1                NaN                NaN                 NaN   \n",
       "2                NaN                NaN                 NaN   \n",
       "3                NaN                NaN                 NaN   \n",
       "4                NaN                NaN                 NaN   \n",
       "\n",
       "   SOC_ACCEPTANCE_VLA  \n",
       "0                 NaN  \n",
       "1                 NaN  \n",
       "2                 NaN  \n",
       "3                 NaN  \n",
       "4                 NaN  "
      ]
     },
     "execution_count": 3,
     "metadata": {},
     "output_type": "execute_result"
    }
   ],
   "source": [
    "df = pd.read_csv('../Top_10_companies_ratio.csv')\n",
    "df.head()"
   ]
  },
  {
   "cell_type": "code",
   "execution_count": null,
   "metadata": {
    "scrolled": true
   },
   "outputs": [],
   "source": [
    "df.rename(columns={'Unnamed: 0': 'Name'}, inplace=True)\n",
    "df.fillna(0,inplace=True)\n",
    "df.head(11)"
   ]
  },
  {
   "cell_type": "markdown",
   "metadata": {},
   "source": [
    "# Just checking how to access the company name in flask "
   ]
  },
  {
   "cell_type": "code",
   "execution_count": null,
   "metadata": {},
   "outputs": [],
   "source": [
    "df['Name'][df['EMPLOYER_ACCEPTANCE_HA'] != 0]"
   ]
  },
  {
   "cell_type": "code",
   "execution_count": null,
   "metadata": {},
   "outputs": [],
   "source": [
    "EMPLOYER_ACCEPTANCE_HA = df['Name'][df['EMPLOYER_ACCEPTANCE_HA'] != 0]\n",
    "EMPLOYER_ACCEPTANCE_LA = df['Name'][df['EMPLOYER_ACCEPTANCE_LA'] != 0]\n",
    "EMPLOYER_ACCEPTANCE_MA = df['Name'][df['EMPLOYER_ACCEPTANCE_MA'] != 0]\n",
    "EMPLOYER_ACCEPTANCE_VHA = df['Name'][df['EMPLOYER_ACCEPTANCE_VHA'] != 0]\n",
    "EMPLOYER_ACCEPTANCE_VLA = df['Name'][df['EMPLOYER_ACCEPTANCE_VLA'] != 0]\n",
    "\n",
    "JOB_ACCEPTANCE_HA = df['Name'][df['JOB_ACCEPTANCE_HA'] != 0]\n",
    "JOB_ACCEPTANCE_LA = df['Name'][df['JOB_ACCEPTANCE_LA'] != 0]\n",
    "JOB_ACCEPTANCE_MA = df['Name'][df['JOB_ACCEPTANCE_MA'] != 0]\n",
    "JOB_ACCEPTANCE_VHA = df['Name'][df['JOB_ACCEPTANCE_VHA'] != 0]\n",
    "JOB_ACCEPTANCE_VLA = df['Name'][df['JOB_ACCEPTANCE_VLA'] != 0]\n",
    "\n",
    "SOC_ACCEPTANCE_HA = df['Name'][df['SOC_ACCEPTANCE_HA'] != 0]\n",
    "SOC_ACCEPTANCE_LA = df['Name'][df['SOC_ACCEPTANCE_LA'] != 0]\n",
    "SOC_ACCEPTANCE_MA = df['Name'][df['SOC_ACCEPTANCE_MA'] != 0]\n",
    "SOC_ACCEPTANCE_VHA = df['Name'][df['SOC_ACCEPTANCE_VHA'] != 0]\n",
    "SOC_ACCEPTANCE_VLA = df['Name'][df['SOC_ACCEPTANCE_VLA'] != 0]\n"
   ]
  },
  {
   "cell_type": "code",
   "execution_count": null,
   "metadata": {},
   "outputs": [],
   "source": [
    "print(EMPLOYER_ACCEPTANCE_HA)"
   ]
  },
  {
   "cell_type": "code",
   "execution_count": null,
   "metadata": {},
   "outputs": [],
   "source": [
    "Employer_acceptance = df['Name'][:50]\n",
    "job_acceptance = df['Name'][50:100]\n",
    "soc_acceptance = df['Name'][100:150]"
   ]
  },
  {
   "cell_type": "code",
   "execution_count": null,
   "metadata": {
    "scrolled": true
   },
   "outputs": [],
   "source": [
    "print(Employer_acceptance[0])"
   ]
  },
  {
   "cell_type": "code",
   "execution_count": null,
   "metadata": {
    "scrolled": true
   },
   "outputs": [],
   "source": [
    "print(EMPLOYER_ACCEPTANCE_MA)"
   ]
  },
  {
   "cell_type": "code",
   "execution_count": null,
   "metadata": {},
   "outputs": [],
   "source": [
    "fd = pd.read_csv('visawise.csv')"
   ]
  },
  {
   "cell_type": "code",
   "execution_count": null,
   "metadata": {},
   "outputs": [],
   "source": [
    "fd.head()"
   ]
  },
  {
   "cell_type": "code",
   "execution_count": null,
   "metadata": {},
   "outputs": [],
   "source": [
    "fd.columns"
   ]
  },
  {
   "cell_type": "code",
   "execution_count": 15,
   "metadata": {},
   "outputs": [
    {
     "ename": "NameError",
     "evalue": "name 'fd' is not defined",
     "output_type": "error",
     "traceback": [
      "\u001b[1;31m---------------------------------------------------------------------------\u001b[0m",
      "\u001b[1;31mNameError\u001b[0m                                 Traceback (most recent call last)",
      "\u001b[1;32m<ipython-input-15-7f8f1e69f89c>\u001b[0m in \u001b[0;36m<module>\u001b[1;34m\u001b[0m\n\u001b[1;32m----> 1\u001b[1;33m \u001b[0mstate\u001b[0m \u001b[1;33m=\u001b[0m \u001b[0mfd\u001b[0m\u001b[1;33m.\u001b[0m\u001b[0mcolumns\u001b[0m\u001b[1;33m[\u001b[0m\u001b[1;36m39\u001b[0m\u001b[1;33m:\u001b[0m\u001b[1;33m]\u001b[0m\u001b[1;33m\u001b[0m\u001b[1;33m\u001b[0m\u001b[0m\n\u001b[0m\u001b[0;32m      2\u001b[0m \u001b[0mjob\u001b[0m \u001b[1;33m=\u001b[0m \u001b[0mfd\u001b[0m\u001b[1;33m.\u001b[0m\u001b[0mcolumns\u001b[0m\u001b[1;33m[\u001b[0m\u001b[1;36m27\u001b[0m\u001b[1;33m:\u001b[0m\u001b[1;36m39\u001b[0m\u001b[1;33m]\u001b[0m\u001b[1;33m\u001b[0m\u001b[1;33m\u001b[0m\u001b[0m\n\u001b[0;32m      3\u001b[0m \u001b[0mprint\u001b[0m\u001b[1;33m(\u001b[0m\u001b[0mstate\u001b[0m\u001b[1;33m)\u001b[0m\u001b[1;33m\u001b[0m\u001b[1;33m\u001b[0m\u001b[0m\n\u001b[0;32m      4\u001b[0m \u001b[0mprint\u001b[0m\u001b[1;33m(\u001b[0m\u001b[1;33m)\u001b[0m\u001b[1;33m\u001b[0m\u001b[1;33m\u001b[0m\u001b[0m\n\u001b[0;32m      5\u001b[0m \u001b[0mprint\u001b[0m\u001b[1;33m(\u001b[0m\u001b[0mjob\u001b[0m\u001b[1;33m)\u001b[0m\u001b[1;33m\u001b[0m\u001b[1;33m\u001b[0m\u001b[0m\n",
      "\u001b[1;31mNameError\u001b[0m: name 'fd' is not defined"
     ]
    }
   ],
   "source": [
    "state = fd.columns[39:]\n",
    "job = fd.columns[27:39]\n",
    "print(state)\n",
    "print()\n",
    "print(job)"
   ]
  },
  {
   "cell_type": "code",
   "execution_count": null,
   "metadata": {
    "scrolled": true
   },
   "outputs": [],
   "source": [
    "# df.loc[range(len(state)),'STATES'] = state\n",
    "# df.loc[range(len(job)),'JOBS'] = job\n",
    "df"
   ]
  },
  {
   "cell_type": "code",
   "execution_count": null,
   "metadata": {},
   "outputs": [],
   "source": [
    "df.columns"
   ]
  },
  {
   "cell_type": "code",
   "execution_count": null,
   "metadata": {
    "scrolled": true
   },
   "outputs": [],
   "source": [
    "df['JOBS'][:12]"
   ]
  },
  {
   "cell_type": "code",
   "execution_count": null,
   "metadata": {},
   "outputs": [],
   "source": [
    "def job_extractor(job):\n",
    "    return job.split('_')[1]\n",
    "\n",
    "df['JOBS'][:12] = df['JOBS'][:12].apply(job_extractor)\n",
    "df['JOBS'][:12]\n"
   ]
  },
  {
   "cell_type": "code",
   "execution_count": null,
   "metadata": {},
   "outputs": [],
   "source": [
    "df['JOBS'][11] = 'Sales and Marketing'"
   ]
  },
  {
   "cell_type": "code",
   "execution_count": null,
   "metadata": {},
   "outputs": [],
   "source": [
    "df.to_csv('../Top_10_companies_ratio_and_jobsname.csv')"
   ]
  },
  {
   "cell_type": "code",
   "execution_count": 8,
   "metadata": {},
   "outputs": [],
   "source": [
    "df = pd.read_csv('../Top_10_companies_ratio_and_jobsname.csv')"
   ]
  },
  {
   "cell_type": "code",
   "execution_count": 9,
   "metadata": {},
   "outputs": [
    {
     "data": {
      "text/plain": [
       "0         CALIFORNIA\n",
       "1              TEXAS\n",
       "2           NEW YORK\n",
       "3         NEW JERSEY\n",
       "4           ILLINOIS\n",
       "5      MASSACHUSETTS\n",
       "6       PENNSYLVANIA\n",
       "7            FLORIDA\n",
       "8            GEORGIA\n",
       "9         WASHINGTON\n",
       "10          VIRGINIA\n",
       "11          MICHIGAN\n",
       "12    NORTH CAROLINA\n",
       "13              OHIO\n",
       "Name: STATES, dtype: object"
      ]
     },
     "execution_count": 9,
     "metadata": {},
     "output_type": "execute_result"
    }
   ],
   "source": [
    "df['STATES'][:14]"
   ]
  },
  {
   "cell_type": "code",
   "execution_count": 10,
   "metadata": {},
   "outputs": [
    {
     "data": {
      "text/plain": [
       "0                  Artist\n",
       "1                   Audit\n",
       "2                Database\n",
       "3               Education\n",
       "4                Engineer\n",
       "5                  Estate\n",
       "6                 Finance\n",
       "7                      It\n",
       "8                 Manager\n",
       "9                 Medical\n",
       "10                     Pr\n",
       "11    Sales and Marketing\n",
       "Name: JOBS, dtype: object"
      ]
     },
     "execution_count": 10,
     "metadata": {},
     "output_type": "execute_result"
    }
   ],
   "source": [
    "df['JOBS'][:12]"
   ]
  },
  {
   "cell_type": "code",
   "execution_count": 11,
   "metadata": {},
   "outputs": [
    {
     "name": "stdout",
     "output_type": "stream",
     "text": [
      "[1, 1, 0, 1]\n"
     ]
    }
   ],
   "source": [
    "i = [1]\n",
    "p = [1,0,1]\n",
    "print(i+p)"
   ]
  },
  {
   "cell_type": "code",
   "execution_count": 13,
   "metadata": {},
   "outputs": [
    {
     "name": "stdout",
     "output_type": "stream",
     "text": [
      "1\n"
     ]
    }
   ],
   "source": [
    "print(df['JOBS'].str.contains('Pr').sum())"
   ]
  },
  {
   "cell_type": "code",
   "execution_count": 27,
   "metadata": {},
   "outputs": [],
   "source": [
    "Employer_acceptance = df['Name'][:50]\n",
    "job_acceptance = df['Name'][50:100]\n",
    "soc_acceptance = df['Name'][100:150]"
   ]
  },
  {
   "cell_type": "code",
   "execution_count": 21,
   "metadata": {},
   "outputs": [
    {
     "name": "stdout",
     "output_type": "stream",
     "text": [
      "0                  Artist\n",
      "1                   Audit\n",
      "2                Database\n",
      "3               Education\n",
      "4                Engineer\n",
      "5                  Estate\n",
      "6                 Finance\n",
      "7                      It\n",
      "8                 Manager\n",
      "9                 Medical\n",
      "10                     Pr\n",
      "11    Sales and Marketing\n",
      "Name: JOBS, dtype: object\n",
      "\n",
      "0         CALIFORNIA\n",
      "1              TEXAS\n",
      "2           NEW YORK\n",
      "3         NEW JERSEY\n",
      "4           ILLINOIS\n",
      "5      MASSACHUSETTS\n",
      "6       PENNSYLVANIA\n",
      "7            FLORIDA\n",
      "8            GEORGIA\n",
      "9         WASHINGTON\n",
      "10          VIRGINIA\n",
      "11          MICHIGAN\n",
      "12    NORTH CAROLINA\n",
      "13              OHIO\n",
      "Name: STATES, dtype: object\n"
     ]
    }
   ],
   "source": [
    "job = df['JOBS'][:12]\n",
    "States = df['STATES'][:14]\n",
    "print(job)\n",
    "print()\n",
    "print(States)"
   ]
  },
  {
   "cell_type": "code",
   "execution_count": 43,
   "metadata": {},
   "outputs": [
    {
     "name": "stdout",
     "output_type": "stream",
     "text": [
      "GOOGLE INC.\n",
      "IBM CORPORATION\n",
      "QUALCOMM INCORPORATED\n",
      "[1, 0, 0, 0, 0]\n",
      "Medical Scientists, Except Epidemiologists\n",
      "Biochemists and Biophysicists\n",
      "Computer Software Engineers, Systems Software\n",
      "Marketing Managers\n",
      "[1, 0, 0, 0, 0]\n",
      "Artist\n",
      "Audit\n",
      "Database\n",
      "Education\n",
      "Engineer\n",
      "4\n",
      "[0, 0, 0, 0, 1, 0, 0, 0, 0, 0, 0, 0]\n",
      "al\n",
      "CALIFORNIA\n",
      "TEXAS\n",
      "NEW YORK\n",
      "NEW JERSEY\n",
      "ILLINOIS\n",
      "MASSACHUSETTS\n",
      "PENNSYLVANIA\n",
      "FLORIDA\n",
      "GEORGIA\n",
      "WASHINGTON\n",
      "VIRGINIA\n",
      "10\n",
      "[0, 0, 0, 0, 0, 0, 0, 0, 0, 0, 1, 0, 0, 0]\n"
     ]
    },
    {
     "data": {
      "text/plain": [
       "[0, 0, 0, 0, 0, 0, 0, 0, 0, 0, 1, 0, 0, 0]"
      ]
     },
     "execution_count": 43,
     "metadata": {},
     "output_type": "execute_result"
    }
   ],
   "source": [
    "def binaryConverter(acceptance, ans,no):\n",
    "        \n",
    "        if no == 5:\n",
    "            list = [0,0,0,0,0]\n",
    "            j = 0\n",
    "            for i in acceptance:\n",
    "                print(i)\n",
    "                if(i==ans):\n",
    "                    if(j<10):\n",
    "                        list[0]=1\n",
    "                    elif(j<20):\n",
    "                        list[1]=1\n",
    "                    elif(j<30):\n",
    "                        list[2]=1\n",
    "                    elif(j<40):\n",
    "                        list[3]=1\n",
    "                    elif(j<50):\n",
    "                        list[4]=1\n",
    "                    break    \n",
    "                j += 1                \n",
    "            print(list)\n",
    "            return list\n",
    "        \n",
    "        \n",
    "        elif no == 12:\n",
    "            list = [0,0,0,0,0,0,0,0,0,0,0,0]\n",
    "        else:\n",
    "            print(\"al\")\n",
    "            list = [0,0,0,0,0,0,0,0,0,0,0,0,0,0]\n",
    "        j = 0\n",
    "        for i in acceptance:\n",
    "            print(i)\n",
    "            if(i == ans):\n",
    "                print(j)\n",
    "                list[j] = 1\n",
    "                break\n",
    "            j += 1\n",
    "        print(list)\n",
    "        return list\n",
    "\n",
    "binaryConverter(Employer_acceptance, 'QUALCOMM INCORPORATED',5)\n",
    "# binaryConverter(job_acceptance, Jobratio, 5)\n",
    "binaryConverter(soc_acceptance, 'Marketing Managers',5)\n",
    "\n",
    "binaryConverter(job,'Engineer',12)\n",
    "binaryConverter(States,'VIRGINIA',15)\n"
   ]
  },
  {
   "cell_type": "code",
   "execution_count": 46,
   "metadata": {},
   "outputs": [
    {
     "name": "stdout",
     "output_type": "stream",
     "text": [
      "GOOGLE INC.\n",
      "IBM CORPORATION\n",
      "QUALCOMM INCORPORATED\n",
      "[1, 0, 0, 0, 0]\n",
      "RESEARCH ASSOCIATE\n",
      "PROGRAMMER/ANALYST\n",
      "POSTDOCTORAL FELLOW\n",
      "POSTDOCTORAL RESEARCH ASSOCIATE\n",
      "RESEARCH FELLOW\n",
      "POSTDOCTORAL ASSOCIATE\n",
      "INSTRUCTOR\n",
      "POSTDOCTORAL RESEARCH FELLOW\n",
      "MARKETING MANAGER\n",
      "POSTDOCTORAL RESEARCHER\n",
      "COMPUTER ANALYST AND SOFTWARE DEVELOPER\n",
      "LEAD ASIC DESIGN VERIFICATION ENGINEER (ASIC DV ENGR)\n",
      "H-1B\n",
      "POSTDOCTORAL ASSOCIATE/POSTDOCTORAL FELLOW\n",
      "COMPUTER PROGRAMMER, ANALYAST\n",
      "LEAD JAVA SOFTWARE ENGINEER\n",
      "MEDICAL RESIDENT (PGY-1)\n",
      "SYSTEMS ENGINEER/NETWORK AND COMPUTER SYSTEMS ADMINISTRATOR\n",
      "SOFTWARE DEVELOPMENT ENGINEER LEAD\n",
      "PGY 1\n",
      "SOFTWARE APPLICATION ENGINEER\n",
      "POST DOCTORATE RESEARCH ASSOCIATE\n",
      "SOFTWARE DESIGN ENGINEER IN TEST (SDET)\n",
      "RESEARCH FELLOW / RESEARCH FELLOW\n",
      "SOFTWARE DESIGN ENGINEER (SDE)\n",
      "SOFTWARE ENGINEEER\n",
      "SYSTEMS DEVELOPMENT SENIOR SPECIALIST\n",
      "PROGRAMMER/ DEVELOPER\n",
      "ENGINEER-SOFTWARE\n",
      "SYSTEMS DEVELOPMENT SPECIALIST\n",
      "PROGRAMMER ANALYST\n",
      "[0, 0, 0, 1, 0]\n",
      "Medical Scientists, Except Epidemiologists\n",
      "Biochemists and Biophysicists\n",
      "Computer Software Engineers, Systems Software\n",
      "Marketing Managers\n",
      "[1, 0, 0, 0, 0]\n",
      "[1, 0, 0, 0, 0, 0, 0, 0, 1, 0, 1, 0, 0, 0, 0]\n"
     ]
    }
   ],
   "source": [
    "ratio = binaryConverter(Employer_acceptance,'QUALCOMM INCORPORATED', 5) + binaryConverter(job_acceptance, 'PROGRAMMER ANALYST', 5) + binaryConverter(soc_acceptance, 'Marketing Managers', 5)\n",
    "print(ratio)"
   ]
  },
  {
   "cell_type": "code",
   "execution_count": 56,
   "metadata": {},
   "outputs": [
    {
     "name": "stdout",
     "output_type": "stream",
     "text": [
      "[0, 0, 0, 0, 1]\n"
     ]
    }
   ],
   "source": [
    "Year = 2016\n",
    "year = [0,0,0,0,0] \n",
    "if Year == 2012:\n",
    "    year[0] = 1\n",
    "elif Year == 2013:\n",
    "    year[1] = 1\n",
    "elif Year == 2014:\n",
    "    year[2] = 1\n",
    "elif Year == 2015:\n",
    "    year[3] = 1\n",
    "elif Year == 2016:\n",
    "    year[4] = 1\n",
    "print(year)"
   ]
  },
  {
   "cell_type": "code",
   "execution_count": null,
   "metadata": {},
   "outputs": [],
   "source": []
  },
  {
   "cell_type": "code",
   "execution_count": 73,
   "metadata": {},
   "outputs": [
    {
     "ename": "EOFError",
     "evalue": "Ran out of input",
     "output_type": "error",
     "traceback": [
      "\u001b[1;31m---------------------------------------------------------------------------\u001b[0m",
      "\u001b[1;31mEOFError\u001b[0m                                  Traceback (most recent call last)",
      "\u001b[1;32m<ipython-input-73-e0c57aa3f57f>\u001b[0m in \u001b[0;36m<module>\u001b[1;34m\u001b[0m\n\u001b[0;32m      1\u001b[0m \u001b[1;32mimport\u001b[0m \u001b[0mpickle\u001b[0m\u001b[1;33m\u001b[0m\u001b[1;33m\u001b[0m\u001b[0m\n\u001b[0;32m      2\u001b[0m \u001b[1;33m\u001b[0m\u001b[0m\n\u001b[1;32m----> 3\u001b[1;33m \u001b[0mmodel\u001b[0m \u001b[1;33m=\u001b[0m \u001b[0mpickle\u001b[0m\u001b[1;33m.\u001b[0m\u001b[0mload\u001b[0m\u001b[1;33m(\u001b[0m\u001b[0mopen\u001b[0m\u001b[1;33m(\u001b[0m\u001b[1;34m'lolll.pkl'\u001b[0m\u001b[1;33m,\u001b[0m \u001b[1;34m'rb'\u001b[0m\u001b[1;33m)\u001b[0m\u001b[1;33m)\u001b[0m\u001b[1;33m\u001b[0m\u001b[1;33m\u001b[0m\u001b[0m\n\u001b[0m\u001b[0;32m      4\u001b[0m \u001b[1;33m\u001b[0m\u001b[0m\n\u001b[0;32m      5\u001b[0m \u001b[1;33m\u001b[0m\u001b[0m\n",
      "\u001b[1;31mEOFError\u001b[0m: Ran out of input"
     ]
    }
   ],
   "source": [
    "import pickle\n",
    "\n",
    "model = pickle.load(open('lolll.pkl', 'rb'))\n",
    "\n",
    "\n",
    "x = [0, 0, 0, 0, 0, 0, 0, 0, 0, 0, 1, 0, 0, 0, 0, 0, 0, 1, 0, 0, 0, 0, 0, 1, 0, 0, 0, 0, 0, 0, 0, 0, 0, 0, 0, 0, 0, 0, 0, 0, 0, 0, 0, 0, 0, 0, 0, 0, 0, 0, 0]\n",
    "print(x, len(x))\n",
    "prediction = model.predict([x])\n",
    "print(prediction)"
   ]
  },
  {
   "cell_type": "raw",
   "metadata": {},
   "source": [
    "import numpy as np\n",
    "import pandas as pd\n",
    "import pickle\n",
    "from flask import Flask, request, jsonify, render_template\n",
    "\n",
    "\n",
    "app = Flask(__name__)\n",
    "model = pickle.load(open('artificial_neural_networks.pkl', 'rb'))\n",
    "\n",
    "df = pd.read_csv('Top_10_companies_ratio_and_jobsname.csv')\n",
    "Employer_acceptance = df['Name'][:50]\n",
    "job_acceptance = df['Name'][50:100]\n",
    "soc_acceptance = df['Name'][100:150]\n",
    "\n",
    "job = df['JOBS'][:12]\n",
    "States = df['STATES'][:14]\n",
    "\n",
    "\n",
    "@app.route('/')\n",
    "def home():\n",
    "    return render_template('index.html')\n",
    "\n",
    "\n",
    "@app.route('/predict')\n",
    "def indexp():\n",
    "    return render_template('predict.html', content=[Employer_acceptance, job_acceptance, soc_acceptance, job, States])\n",
    "\n",
    "\n",
    "@app.route('/y_predict', methods=['POST'])\n",
    "def y_predict():\n",
    "    '''\n",
    "    For rendering results on HTML GUI\n",
    "    '''\n",
    "\n",
    "    # getting the inputs\n",
    "    Ft = [int(request.form['FULL_TIME_POSITION'])]\n",
    "    Employer = request.form['Employer Name']\n",
    "    Job_ratio = request.form['Job Name']\n",
    "    code = request.form['Code Name']\n",
    "    Year = int(request.form['YEAR'])\n",
    "    wage = int(request.form['PREVAILING_WAGE'])\n",
    "    job_domain = request.form['Job Type']\n",
    "    state = request.form['state']\n",
    "\n",
    "    # managing the inputed data\n",
    "\n",
    "    print(\"ft -\", Ft)\n",
    "\n",
    "    year = [0, 0, 0, 0, 0]\n",
    "    if Year == 2012:\n",
    "        year[0] = 1\n",
    "    elif Year == 2013:\n",
    "        year[1] = 1\n",
    "    elif Year == 2014:\n",
    "        year[2] = 1\n",
    "    elif Year == 2015:\n",
    "        year[3] = 1\n",
    "    elif Year == 2016:\n",
    "        year[4] = 1\n",
    "    print(\"year - \", year)\n",
    "\n",
    "    # Wage\n",
    "    # 'WAGE_CATEGORY_LOW',\n",
    "    # 'WAGE_CATEGORY_MEDIUM', 'WAGE_CATEGORY_VERY HIGH',\n",
    "    # 'WAGE_CATEGORY_VERY LOW'\n",
    "    if wage <= 50000:\n",
    "        Wage = [0, 0, 0, 1]\n",
    "    elif wage > 50000 and wage <= 70000:\n",
    "        Wage = [1, 0, 0, 0]\n",
    "    elif wage > 70000 and wage <= 90000:\n",
    "        Wage = [0, 1, 0, 0]\n",
    "    elif wage > 90000 and wage <= 150000:\n",
    "        Wage = [0, 0, 0, 0]\n",
    "    elif wage >= 150000:\n",
    "        Wage = [0, 0, 1, 0]\n",
    "    print(\"\\n Wage - \", Wage)\n",
    "\n",
    "    def binaryConverter(acceptance, ans, no):\n",
    "        if no == 5:\n",
    "            list = [0, 0, 0, 0, 0]\n",
    "            j = 0\n",
    "            for i in acceptance:\n",
    "                print(type(i))\n",
    "                if(i == ans):\n",
    "                    if(j < 10):\n",
    "                        list[0] = 1\n",
    "                    elif(j < 20):\n",
    "                        list[1] = 1\n",
    "                    elif(j < 30):\n",
    "                        list[2] = 1\n",
    "                    elif(j < 40):\n",
    "                        list[3] = 1\n",
    "                    elif(j < 50):\n",
    "                        list[4] = 1\n",
    "                    break\n",
    "                j += 1\n",
    "            print(list)\n",
    "            return list\n",
    "\n",
    "        elif no == 12:\n",
    "            list = [0, 0, 0, 0, 0, 0, 0, 0, 0, 0, 0, 0]\n",
    "        else:\n",
    "            print(\"al\")\n",
    "            list = [0, 0, 0, 0, 0, 0, 0, 0, 0, 0, 0, 0, 0, 0]\n",
    "        j = 0\n",
    "        for i in acceptance:\n",
    "            print(type(i))\n",
    "            if(str(i) == ans):\n",
    "                print(j)\n",
    "                list[j] = 1\n",
    "                break\n",
    "            j += 1\n",
    "        print(list)\n",
    "        return list\n",
    "\n",
    "    ratio = binaryConverter(Employer_acceptance, Employer, 5) + binaryConverter(\n",
    "        job_acceptance, Job_ratio, 5) + binaryConverter(soc_acceptance, code, 5)\n",
    "    job_array = binaryConverter(job, job_domain, 12)\n",
    "    state_array = binaryConverter(States, state, 15)\n",
    "\n",
    "    # # Predicting using the model\n",
    "    # prediction = model.predict([[Present_Price, Kms_Driven2, Owner, Year, Fuel_Type_Diesel,\n",
    "    #                              Fuel_Type_Petrol, Seller_Type_Individual, Transmission_Mannual]])\n",
    "    # output = round(prediction[0], 2)            # rounded to 2 decimal pts\n",
    "\n",
    "    x = [Ft+ratio+year+Wage+job_array+state_array]\n",
    "    print(x, len(x))\n",
    "    prediction = model.predict([x])\n",
    "    print(prediction)\n",
    "    if prediction == 1:\n",
    "        output = \"Certified\"\n",
    "    else:\n",
    "        output = \"denied\"\n",
    "    return render_template('predict.html', prediction_text='   {}'.format(output))\n",
    "\n",
    "\n",
    "if __name__ == \"__main__\":\n",
    "    app.run(debug=True)\n"
   ]
  }
 ],
 "metadata": {
  "kernelspec": {
   "display_name": "Python 3",
   "language": "python",
   "name": "python3"
  },
  "language_info": {
   "codemirror_mode": {
    "name": "ipython",
    "version": 3
   },
   "file_extension": ".py",
   "mimetype": "text/x-python",
   "name": "python",
   "nbconvert_exporter": "python",
   "pygments_lexer": "ipython3",
   "version": "3.8.5"
  }
 },
 "nbformat": 4,
 "nbformat_minor": 4
}
